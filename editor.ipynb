{
 "cells": [
  {
   "cell_type": "code",
   "execution_count": null,
   "metadata": {
    "ExecuteTime": {
     "start_time": "2021-03-19T06:28:11.473Z"
    }
   },
   "outputs": [],
   "source": [
    "import random\n",
    "import string\n",
    "from io import BytesIO\n",
    "\n",
    "from base64 import b64encode\n",
    "import numpy as np\n",
    "from matplotlib import pyplot as plt\n",
    "import matplotlib\n",
    "matplotlib.use('Agg')\n",
    "import cherrypy\n",
    "from app.htmlx import Html\n",
    "\n",
    "\n",
    "class TemplateHtml(Html):\n",
    "    def __init__(self, template_path, config_path):\n",
    "        super().__init__(template_path, config_path)\n",
    "        \n",
    "    @cherrypy.expose\n",
    "    def display2(self):\n",
    "        # Modified from https://gist.github.com/tkf/1299670 by @tkf\n",
    "        d = self.plot()\n",
    "        d = d.decode('utf8')\n",
    "        return f'''<img src=\"data:image/png;base64,{d}\" width=\"640\" height=\"480\" border=\"0\">'''\n",
    "\n",
    "    def plot(self):\n",
    "        image = BytesIO()\n",
    "        x = np.linspace(0, 10)\n",
    "        y = np.sin(x)\n",
    "        plt.plot(x, y)\n",
    "        plt.savefig(image, format='png')\n",
    "        return b64encode(image.getvalue())\n",
    "\n",
    "    @cherrypy.expose\n",
    "    def index(self):\n",
    "        yield self.encode('utf-8')\n",
    "\n",
    "    @cherrypy.expose\n",
    "    def generate(self, length=8):\n",
    "        some_string = ''.join(random.sample(string.hexdigits, int(length)))\n",
    "        cherrypy.session['mystring'] = some_string\n",
    "        yield some_string\n",
    "\n",
    "    @cherrypy.expose\n",
    "    def display(self):\n",
    "        yield cherrypy.session['mystring']\n",
    "\n",
    "    def quickstart(self, script_name='', config=None):\n",
    "        cherrypy.quickstart(self, script_name, config)\n",
    "\n",
    "\n",
    "template_path = 'templates/editor.html'\n",
    "config_path = 'configs/editor.toml'\n",
    "config = 'configs/base-server.conf'\n",
    "httpd = TemplateHtml(template_path, config_path)\n",
    "httpd.quickstart(config=config)"
   ]
  },
  {
   "cell_type": "code",
   "execution_count": null,
   "metadata": {},
   "outputs": [],
   "source": []
  }
 ],
 "metadata": {
  "kernelspec": {
   "display_name": "ui",
   "language": "python",
   "name": "ui"
  },
  "language_info": {
   "codemirror_mode": {
    "name": "ipython",
    "version": 3
   },
   "file_extension": ".py",
   "mimetype": "text/x-python",
   "name": "python",
   "nbconvert_exporter": "python",
   "pygments_lexer": "ipython3",
   "version": "3.9.2"
  },
  "toc": {
   "base_numbering": 1,
   "nav_menu": {},
   "number_sections": true,
   "sideBar": true,
   "skip_h1_title": false,
   "title_cell": "Table of Contents",
   "title_sidebar": "Contents",
   "toc_cell": false,
   "toc_position": {},
   "toc_section_display": true,
   "toc_window_display": false
  }
 },
 "nbformat": 4,
 "nbformat_minor": 4
}